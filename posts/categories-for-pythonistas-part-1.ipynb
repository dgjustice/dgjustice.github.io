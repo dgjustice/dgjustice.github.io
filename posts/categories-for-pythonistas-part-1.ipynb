{
 "cells": [
  {
   "cell_type": "markdown",
   "metadata": {},
   "source": [
    "# Categories for Pythonistas, Part 1\n",
    "\n",
    "This is an attempt to translate Category Theory Concepts to Python based on the material at http://brendanfong.com/programmingcats.html.  Haskell and Python are very different languages, but I hope that many of the techniques taught will be applicable to more general cases.  It is assumed that you are already comfortable coding in Python and have some experience with its functional features.  Mathematics and computer science are riddled with jargon and cryptic symbols.  We will do our best to communicate in the vernacular as much as possible, but there is great value to learning the language of this domain.  The terseness found in many texts is best appreciated through practice and application.\n",
    "\n",
    "The section numbers will follow the section numbers in the document http://brendanfong.com/programmingcats_files/cats4progs-DRAFT.pdf\n",
    "\n",
    "## Sets and functions, section 1.1\n",
    "\n",
    "The first thing we need to realize is that Python is not a purely functional language, nor is it strongly typed.  These two facts may feel like stuffing a square peg through a round hole, so we will do our best to sand down the edges first!\n",
    "\n",
    "Functions or methods in Python are not always \"pure\"; they may produce side effects - and this is a critcal distinction.  Pure functions are like the functions you learned about in grade school math.  You can compute `x + y` with the same arugments and *always* get the same result.  Side effects come into play with any kind of I/O.  Think database operations, network operations, things of this sort.  Pure functions can be memoized; their results can be safely cachced."
   ]
  },
  {
   "cell_type": "code",
   "execution_count": 39,
   "metadata": {},
   "outputs": [
    {
     "name": "stdout",
     "output_type": "stream",
     "text": [
      "5\n"
     ]
    }
   ],
   "source": [
    "def add3(x: int) -> int:\n",
    "    \"\"\"A pure function that adds 3 to an integer\"\"\"\n",
    "    # Always returns the same result with the same inputs\n",
    "    return x + 3\n",
    "\n",
    "print(add3(2))"
   ]
  },
  {
   "cell_type": "markdown",
   "metadata": {},
   "source": [
    "One thing to note almost immediately is that there is no practical way to enforce typing in Python.  The type annotations express my *intent*, but we cannot prevent users from calling `add` like `add({\"foo\": \"bar\"}, 42)`.\n",
    "\n",
    "The next example demonstrates a function with side effects.  `input` can have unpredictable behavior, and the cast `int(num)` will fail on certain inputs (we call these partial functions).  `get_number_from_user` may fail to return in many different ways."
   ]
  },
  {
   "cell_type": "code",
   "execution_count": 40,
   "metadata": {
    "scrolled": true
   },
   "outputs": [
    {
     "name": "stdout",
     "output_type": "stream",
     "text": [
      "the input type: <class 'str'>\n",
      "Exception!!!\n",
      "            ---------------------------------------------------------------------------\n",
      "            ValueError                                Traceback (most recent call last)\n",
      "            <ipython-input-25-e2519f5ea9d5> in <module>\n",
      "                  7     return int(num)\n",
      "                  8 \n",
      "            ----> 9 num = get_number_from_user()\n",
      "\n",
      "            <ipython-input-25-e2519f5ea9d5> in get_number_from_user()\n",
      "                  5     print(f\"the input type: {type(num)}\")\n",
      "                  6     # This is never guaranteed to work\n",
      "            ----> 7     return int(num)\n",
      "                  8 \n",
      "                  9 num = get_number_from_user()\n",
      "\n",
      "            ValueError: invalid literal for int() with base 10: 'abc'\n",
      "        \n"
     ]
    }
   ],
   "source": [
    "from typing import Optional\n",
    "def get_number_from_user() -> Optional[int]:\n",
    "    \"\"\"This function has side effects!\"\"\"\n",
    "    # The user could send us anything... or hit ctrl+c\n",
    "    # num = input(\"Enter a number: \")\n",
    "    num = \"abc\"\n",
    "    print(f\"the input type: {type(num)}\")\n",
    "    # try/except just to keep the cells running for now\n",
    "    try:\n",
    "        # This is never guaranteed to work\n",
    "        return int(num)\n",
    "    except:\n",
    "        print(\"\"\"Exception!!!\n",
    "            ---------------------------------------------------------------------------\n",
    "            ValueError                                Traceback (most recent call last)\n",
    "            <ipython-input-25-e2519f5ea9d5> in <module>\n",
    "                  7     return int(num)\n",
    "                  8 \n",
    "            ----> 9 num = get_number_from_user()\n",
    "\n",
    "            <ipython-input-25-e2519f5ea9d5> in get_number_from_user()\n",
    "                  5     print(f\"the input type: {type(num)}\")\n",
    "                  6     # This is never guaranteed to work\n",
    "            ----> 7     return int(num)\n",
    "                  8 \n",
    "                  9 num = get_number_from_user()\n",
    "\n",
    "            ValueError: invalid literal for int() with base 10: 'abc'\n",
    "        \"\"\")\n",
    "\n",
    "num = get_number_from_user()"
   ]
  },
  {
   "cell_type": "markdown",
   "metadata": {},
   "source": [
    "A function $f$ takes an input $x$ and produces an output $y$.  If we apply another function $g$ to $y$, we produce $z$.\n",
    "\n",
    "$$x \\xrightarrow[]{\\text{f}} y \\xrightarrow[]{\\text{g}} z$$\n",
    "\n",
    "In the following example, we are demonstrating morphisms $\\mathbb{Z} \\rightarrow \\mathbb{Z}$, e.g. `int` -> `int`, but we can use other categories as well."
   ]
  },
  {
   "cell_type": "code",
   "execution_count": 41,
   "metadata": {},
   "outputs": [
    {
     "name": "stdout",
     "output_type": "stream",
     "text": [
      "14\n"
     ]
    }
   ],
   "source": [
    "def multiply2(a: int) -> int:\n",
    "    \"\"\"A pure function to multiply an integer by 2\"\"\"\n",
    "    return a * 2\n",
    "\n",
    "# define x\n",
    "x = 4\n",
    "# apply add3\n",
    "y = add3(x)\n",
    "# apply multiply2\n",
    "z = multiply2(y)\n",
    "\n",
    "print(z)"
   ]
  },
  {
   "cell_type": "markdown",
   "metadata": {},
   "source": [
    "We can also compose these functions similar to function composition in mathematics.\n",
    "\n",
    "$$z = (f \\circ g)(x)$$\n",
    "\n",
    "Though the notation in python requires nesting function calls as in the following:"
   ]
  },
  {
   "cell_type": "code",
   "execution_count": 42,
   "metadata": {},
   "outputs": [
    {
     "name": "stdout",
     "output_type": "stream",
     "text": [
      "14\n"
     ]
    }
   ],
   "source": [
    "# define x\n",
    "x = 4\n",
    "# compose add3 multiply2 after add3\n",
    "z = multiply2(add3(x))\n",
    "\n",
    "print(z)"
   ]
  },
  {
   "cell_type": "markdown",
   "metadata": {},
   "source": [
    "What about a morphism $\\mathbb{Z} \\rightarrow \\mathbb{B}$?\n",
    "\n",
    "Let's demonstrate that $x \\xrightarrow[]{\\text{f}} y \\xrightarrow[]{\\text{g}} z$ == $(f \\circ g)(x)$"
   ]
  },
  {
   "cell_type": "code",
   "execution_count": 43,
   "metadata": {},
   "outputs": [
    {
     "data": {
      "text/plain": [
       "True"
      ]
     },
     "execution_count": 43,
     "metadata": {},
     "output_type": "execute_result"
    }
   ],
   "source": [
    "def add42(n: int) -> int:\n",
    "    return n + 42\n",
    "\n",
    "def iseven(z: int) -> bool:\n",
    "    return True if z % 2 == 0 else False\n",
    "\n",
    "x = 3\n",
    "y = add42(x)\n",
    "z = iseven(y)\n",
    "\n",
    "z == iseven(add42(x))"
   ]
  },
  {
   "cell_type": "markdown",
   "metadata": {},
   "source": [
    "## Sets and functions, section 1.2\n",
    "\n",
    "Section 1.2 of the book is thoroughly covered in freely-available texts on the internet.  Python has support for set operations and this is documented at https://docs.python.org/3.8/library/stdtypes.html#set-types-set-frozenset.\n",
    "\n",
    "## Categories, section 1.3\n",
    "\n",
    "Categories!  :P"
   ]
  }
 ],
 "metadata": {
  "kernelspec": {
   "display_name": "Python 3",
   "language": "python",
   "name": "python3"
  },
  "language_info": {
   "codemirror_mode": {
    "name": "ipython",
    "version": 3
   },
   "file_extension": ".py",
   "mimetype": "text/x-python",
   "name": "python",
   "nbconvert_exporter": "python",
   "pygments_lexer": "ipython3",
   "version": "3.6.10"
  },
  "nikola": {
   "category": "",
   "date": "2020-04-17 10:02:08 UTC-05:00",
   "description": "",
   "link": "",
   "slug": "categories-for-pythonistas-part-1",
   "tags": "",
   "title": "Categories for Pythonistas - Part 1",
   "type": "text"
  }
 },
 "nbformat": 4,
 "nbformat_minor": 2
}

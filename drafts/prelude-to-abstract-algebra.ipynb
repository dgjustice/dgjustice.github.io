{
 "cells": [
  {
   "cell_type": "markdown",
   "metadata": {},
   "source": [
    "# Prelude to Abstract Algebra\n",
    "\n",
    "1.  Suppose that\n",
    "- A={x:x∈ $\\mathbb{N}$ and x is even},\n",
    "- B={x:x∈ $\\mathbb{N}$ and x is prime},\n",
    "- C={x:x∈ $\\mathbb{N}$ and x is a multiple of 5}.\n",
    "\n",
    "Describe each of the following sets.\n",
    "\n",
    "- A∩B\n",
    "  - `{2}` as 2 is the only even prime number\n",
    "- B∩C\n",
    "  - `{5}` as all other multiples of 5 are composite and not prime\n",
    "- A∪B\n",
    "  - This set will contain all multiples of 2 and all primes `{2, 3, 5, 7, 11, ...}`.  It will **not** contain composite odd numbers like 9 or 15.\n",
    "- A∩(B∪C)\n",
    "  - `B∪C` will contain primes and multiples of 5.  `{2, 3, 5, 7, 10, 11, ...}`  The intersection with `A` will contain two and any even multiples of 5.  `{2, 10, 20, 30, ...}`\n",
    "\n",
    "2. If A={a,b,c}, B={1,2,3}, C={x}, and D=∅,\n",
    "\n",
    "list all of the elements in each of the following sets.\n",
    "\n",
    "- A×B\n",
    "  - `{(a,1), (b,2), (c,3)}`\n",
    "- B×A\n",
    "  - `{(1,a), (2,b), (3,c)}`\n",
    "- A×B×C\n",
    "  - `{(a,1,x), (b,2,x), (c,3,x)}`\n",
    "- A×D\n",
    "  - `∅`\n",
    "\n",
    "3.  Find an example of two nonempty sets A and B for which A×B=B×A is true.\n",
    "  - This is only possible when `A=B`.  If `A=B`, then `A×B=A×A=B×A`.\n",
    "\n",
    "Does is need to be more wordy?\n",
    "\"`A∪∅` is the union of the elements of `A` and the elements of the null set.  `A∪∅` contains every element of `A` and every element of `∅`, which is empty.  Therefore, `A∪∅` is equivalent to `A`.\"\n",
    "\n",
    "that's too informal. there are definitions for set union, for the empty set and so on that you have to use.\n",
    "proofs like that are generally done by translating a statement about sets into a statement about logical propositions\n",
    "\n",
    "you have already done that\n",
    "except it's hidden inside the set comprehensions\n",
    "\n",
    "so to prove {a| a∈A ∨ a∈∅} = {a| a∈A}, you need to prove that a∈A ∨ a∈∅ <=> a∈A .\n",
    "to do that, you need to state that a∈∅ is equivalent to false, and that or-ing something with false doesn't change it\n",
    "\n",
    "boarders  6 days ago\n",
    "The important point that exercises like these get across are your ability to work with formal definitions. What they want is you to formally write out what that union and intersection are and then to say why they are the same (and thus they also want you to demonstrate that you know that two sets are the same precisely if they have the same elements).\n",
    "\n",
    "## References\n",
    "\n",
    "- Judson, Thomas W. http://abstract.ups.edu/aata/aata.html"
   ]
  }
 ],
 "metadata": {
  "kernelspec": {
   "display_name": "Python 3",
   "language": "python",
   "name": "python3"
  },
  "language_info": {
   "codemirror_mode": {
    "name": "ipython",
    "version": 3
   },
   "file_extension": ".py",
   "mimetype": "text/x-python",
   "name": "python",
   "nbconvert_exporter": "python",
   "pygments_lexer": "ipython3",
   "version": "3.7.9"
  },
  "nikola": {
   "category": "",
   "date": "2020-10-01 09:43:08-05:00",
   "description": "",
   "link": "",
   "slug": "prelude-to-abstract-algebra",
   "tags": "math",
   "title": "Prelude to Abstract Algebra",
   "type": "text"
  }
 },
 "nbformat": 4,
 "nbformat_minor": 4
}

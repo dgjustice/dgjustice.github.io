{
 "cells": [
  {
   "cell_type": "markdown",
   "metadata": {},
   "source": [
    "# Folds and recursion\n",
    "\n",
    "I recently read a [paper by Graham Hutton](http://www.cs.nott.ac.uk/~pszgmh/fold.pdf) on folds and recursion.\n",
    "If you don't care much about functional programming, feel free to disengage now.  😆\n",
    "\n",
    "It is an interesting paper, and I encourage you to give it a read.\n",
    "This article is more squirrel chasing and less about the central thesis of Graham Hutton's work.\n",
    "\n",
    "Spoiler alert, Haskell doesn't have `for`, `while`, `do` loops!\n",
    "That leaves tools like `map`, recursions, and `fold` in our toolbox.\n",
    "Recursion can be very expensive, so this paper shows us how to abstract it away with `fold`.\n",
    "One of the examples rewrites `dropWhile` using `fold` instead of recursion.\n",
    "\n",
    "```haskell\n",
    "dropWhile' p = foldr f v\n",
    "  where f x (ys, xs) = (if p x then ys else x:xs,  x:xs)\n",
    "        v = ([ ],[ ])\n",
    "dropWhile p = fst . dropWhile' p\n",
    "```\n",
    "\n",
    "It took me a while to unpack what that chunk of code is doing.\n",
    "\n",
    "- Iterate over the list, *in reverse*\n",
    "- Store visited values in `xs`\n",
    "- When the predicate stops firing, flip `xs` into `ys` which has been empty up to this point\n",
    "- The last line returns a *function* that takes a list of values and returns another (filtered) list\n",
    "\n",
    "Clearly, the list must be finite for this to work.\n",
    "\n",
    "## dropWhile in Python\n",
    "\n",
    "Let's mess around with a translation and a couple variants.\n",
    "These are quick-and-dirty examples, missing guardrails."
   ]
  },
  {
   "cell_type": "code",
   "execution_count": 14,
   "metadata": {
    "scrolled": false
   },
   "outputs": [
    {
     "name": "stdout",
     "output_type": "stream",
     "text": [
      "5.21 ms ± 37.4 µs per loop (mean ± std. dev. of 7 runs, 100 loops each)\n"
     ]
    }
   ],
   "source": [
    "from functools import reduce\n",
    "\n",
    "def drop_while(pred, items):\n",
    "    def _drop_while(tup, x):\n",
    "        ys, xs = tup\n",
    "        if pred(x):\n",
    "            return (ys, [x] + xs)\n",
    "        return ([x] + xs, [x] + xs)\n",
    "    return reduce(_drop_while, reversed(items), ([], []))[0]\n",
    "\n",
    "%timeit drop_while(lambda x: x < 42, range(1000))"
   ]
  },
  {
   "cell_type": "code",
   "execution_count": 15,
   "metadata": {},
   "outputs": [
    {
     "name": "stdout",
     "output_type": "stream",
     "text": [
      "6.43 µs ± 9.13 ns per loop (mean ± std. dev. of 7 runs, 100000 loops each)\n"
     ]
    }
   ],
   "source": [
    "def drop_it_hot(pred, items):\n",
    "    for i, v in enumerate(items):\n",
    "        if pred(v):\n",
    "            continue\n",
    "        return items[i:]\n",
    "    return items\n",
    "\n",
    "%timeit drop_it_hot(lambda x: x < 42, range(1000))"
   ]
  },
  {
   "cell_type": "code",
   "execution_count": 16,
   "metadata": {},
   "outputs": [
    {
     "name": "stdout",
     "output_type": "stream",
     "text": [
      "7.37 µs ± 33.1 ns per loop (mean ± std. dev. of 7 runs, 100000 loops each)\n"
     ]
    }
   ],
   "source": [
    "def drop_it_hotter(pred, items):\n",
    "    i = iter(items)\n",
    "    v = next(i)\n",
    "    while pred(v):\n",
    "        v = next(i)\n",
    "    return i\n",
    "\n",
    "%timeit drop_it_hotter(lambda x: x < 42, range(1000))"
   ]
  },
  {
   "cell_type": "markdown",
   "metadata": {},
   "source": [
    "### Performance\n",
    "\n",
    "Not bad!\n",
    "If you asked me ahead of time how those would perform, I would have guessed the exact opposite order that happened.\n",
    "The functional version has to traverse the entire list, but the other two short circuit when the predicate stops firing.\n",
    "If you know why this is the case, please leave a comment!\n",
    "(Buttons at the bottom of the page)\n",
    "\n",
    "## Fibonacci numbers\n",
    "\n",
    "All this made me think about the Fibonacci function (everyone's pet recursion function).\n",
    "Let's start with the typical recursive implementation then see if we can rewrite it using ~`fold`~ `reduce`."
   ]
  },
  {
   "cell_type": "code",
   "execution_count": 17,
   "metadata": {},
   "outputs": [
    {
     "name": "stdout",
     "output_type": "stream",
     "text": [
      "15.4 µs ± 95.2 ns per loop (mean ± std. dev. of 7 runs, 100000 loops each)\n"
     ]
    }
   ],
   "source": [
    "def fibr(n):\n",
    "    if n in [1, 2]:\n",
    "        return 1\n",
    "    return fibr(n -1) + fibr(n - 2)\n",
    "\n",
    "%timeit fibr(10)"
   ]
  },
  {
   "cell_type": "code",
   "execution_count": 19,
   "metadata": {},
   "outputs": [
    {
     "name": "stdout",
     "output_type": "stream",
     "text": [
      "18.6 µs ± 141 ns per loop (mean ± std. dev. of 7 runs, 100000 loops each)\n"
     ]
    }
   ],
   "source": [
    "from functools import reduce\n",
    "\n",
    "def fib(n):\n",
    "    # `range` is simply a generator, and we ignore its value\n",
    "    return reduce(lambda x, _: (x[1], x[0] + x[1]), range(n - 1), (1, 1))[0]\n",
    "\n",
    "%timeit fib(100)"
   ]
  },
  {
   "cell_type": "code",
   "execution_count": 41,
   "metadata": {},
   "outputs": [
    {
     "name": "stdout",
     "output_type": "stream",
     "text": [
      "5.82 µs ± 84.7 ns per loop (mean ± std. dev. of 7 runs, 100000 loops each)\n"
     ]
    }
   ],
   "source": [
    "def fibfor(n):\n",
    "    # Boring, imperative version\n",
    "    a, b = 1, 1\n",
    "    if n in [1, 2]:\n",
    "        return 1\n",
    "    for i in range(2, n+1):\n",
    "        # Am I the only one that finds this cringey?!\n",
    "        a, b = b, a + b\n",
    "    return a\n",
    "\n",
    "%timeit fibfor(100)"
   ]
  },
  {
   "cell_type": "markdown",
   "metadata": {},
   "source": [
    "## Recursion is expensive\n",
    "\n",
    "Yikes!\n",
    "That recursive implementation is an **order of magnitude** worse than the other two versions.\n",
    "I was again surprised that the imperative version kicked `reduce`'s butt.\n",
    "\n",
    "TL;DR;\n",
    "When performance matters, measure!\n",
    "\n",
    "I have more mathy work coming soon.\n",
    "I wanted to slip this out between bigger projects, more to come soon!\n",
    "\n",
    "### IHaskell plug\n",
    "\n",
    "Want to play with the Haskell code in the intro, but in the comfort of a Jupyter notebook?\n",
    "Check out [IHaskell](https://github.com/gibiansky/IHaskell)!"
   ]
  }
 ],
 "metadata": {
  "kernelspec": {
   "display_name": "Python 3",
   "language": "python",
   "name": "python3"
  },
  "language_info": {
   "codemirror_mode": {
    "name": "ipython",
    "version": 3
   },
   "file_extension": ".py",
   "mimetype": "text/x-python",
   "name": "python",
   "nbconvert_exporter": "python",
   "pygments_lexer": "ipython3",
   "version": "3.7.9"
  },
  "nikola": {
   "category": "",
   "date": "2020-09-26 16:55:51 UTC-05:00",
   "description": "",
   "link": "",
   "slug": "fold-vs-recursion",
   "tags": "python",
   "title": "Fold Versus Recursion",
   "type": "text"
  }
 },
 "nbformat": 4,
 "nbformat_minor": 4
}

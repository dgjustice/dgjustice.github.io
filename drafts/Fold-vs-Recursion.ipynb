{
 "cells": [
  {
   "cell_type": "markdown",
   "metadata": {},
   "source": [
    "I've been reading through http://www.cs.nott.ac.uk/~pszgmh/fold.pdf.  TL;DR; Replace recursive functions with folds on finite collections.  It made me think about the Fibonacci function (everyone's pet recursion function)."
   ]
  },
  {
   "cell_type": "code",
   "execution_count": 39,
   "metadata": {},
   "outputs": [
    {
     "name": "stdout",
     "output_type": "stream",
     "text": [
      "17.9 µs ± 121 ns per loop (mean ± std. dev. of 7 runs, 100000 loops each)\n"
     ]
    }
   ],
   "source": [
    "from functools import reduce\n",
    "\n",
    "def fib(n):\n",
    "    # `range` is simply a generator, and we ignore its value\n",
    "    return reduce(lambda x, _: (x[1], x[0] + x[1]), range(n - 1), (1, 1))[0]\n",
    "\n",
    "%timeit fib(100)\n",
    "\n",
    "# 18.4 µs ± 16.3 ns per loop (mean ± std. dev. of 7 runs, 100000 loops each)"
   ]
  },
  {
   "cell_type": "code",
   "execution_count": 40,
   "metadata": {},
   "outputs": [
    {
     "name": "stdout",
     "output_type": "stream",
     "text": [
      "15.2 µs ± 11.5 ns per loop (mean ± std. dev. of 7 runs, 100000 loops each)\n"
     ]
    }
   ],
   "source": [
    "def fibr(n):\n",
    "    if n in [1, 2]:\n",
    "        return 1\n",
    "    return fibr(n -1) + fibr(n - 2)\n",
    "\n",
    "%timeit fibr(10)\n",
    "\n",
    "# 15.2 µs ± 5.68 ns per loop (mean ± std. dev. of 7 runs, 100000 loops each)"
   ]
  },
  {
   "cell_type": "code",
   "execution_count": 41,
   "metadata": {},
   "outputs": [
    {
     "name": "stdout",
     "output_type": "stream",
     "text": [
      "5.82 µs ± 84.7 ns per loop (mean ± std. dev. of 7 runs, 100000 loops each)\n"
     ]
    }
   ],
   "source": [
    "def fibfor(n):\n",
    "    a, b = 1, 1\n",
    "    if n in [1, 2]:\n",
    "        return 1\n",
    "    for i in range(2, n+1):\n",
    "        a, b = b, a + b\n",
    "    return a\n",
    "\n",
    "%timeit fibfor(100)\n",
    "\n",
    "# 5.72 µs ± 33.7 ns per loop (mean ± std. dev. of 7 runs, 100000 loops each)"
   ]
  },
  {
   "cell_type": "code",
   "execution_count": 72,
   "metadata": {
    "scrolled": false
   },
   "outputs": [
    {
     "name": "stdout",
     "output_type": "stream",
     "text": [
      "5.21 ms ± 3.86 µs per loop (mean ± std. dev. of 7 runs, 100 loops each)\n"
     ]
    }
   ],
   "source": [
    "# dropWhile' p = foldr f v\n",
    "#   where f x (ys, xs) = (if p x then ys else x:xs,  x:xs)\n",
    "#         v = ([ ],[ ])\n",
    "\n",
    "def drop_while(pred, items):\n",
    "    def _drop_while(tup, x):\n",
    "        ys, xs = tup\n",
    "        if pred(x):\n",
    "            return (ys, [x] + xs)\n",
    "        return ([x] + xs, [x] + xs)\n",
    "    return reduce(_drop_while, reversed(items), ([], []))[0]\n",
    "\n",
    "%timeit drop_while(lambda x: x < 42, range(1000))\n",
    "# 5.27 ms ± 45.2 µs per loop (mean ± std. dev. of 7 runs, 100 loops each)"
   ]
  },
  {
   "cell_type": "code",
   "execution_count": 71,
   "metadata": {},
   "outputs": [
    {
     "name": "stdout",
     "output_type": "stream",
     "text": [
      "6.49 µs ± 14.4 ns per loop (mean ± std. dev. of 7 runs, 100000 loops each)\n"
     ]
    }
   ],
   "source": [
    "def drop_it_hot(pred, items):\n",
    "    for i, v in enumerate(items):\n",
    "        if pred(v):\n",
    "            continue\n",
    "        return items[i:]\n",
    "    return items\n",
    "\n",
    "%timeit drop_it_hot(lambda x: x < 42, range(1000))\n",
    "# 6.49 µs ± 14.4 ns per loop (mean ± std. dev. of 7 runs, 100000 loops each)"
   ]
  },
  {
   "cell_type": "code",
   "execution_count": 43,
   "metadata": {},
   "outputs": [
    {
     "name": "stdout",
     "output_type": "stream",
     "text": [
      "[Node('a'), Node('b'), Node('d'), Node('c'), Node('f'), Node('l'), Node('m'), Node('g')]\n"
     ]
    }
   ],
   "source": [
    "class Node:\n",
    "    def __init__(self, val):\n",
    "        self.val = val\n",
    "        self.left = None\n",
    "        self.right = None\n",
    "\n",
    "    def __iter__(self):\n",
    "        # Traverse the tree, DFS\n",
    "        yield self\n",
    "        for child in [self.left, self.right]:\n",
    "            if not child:\n",
    "                continue\n",
    "            for grand in child:\n",
    "                yield grand\n",
    "    \n",
    "    @property\n",
    "    def children(self):\n",
    "        if self.left:\n",
    "            yield self.left\n",
    "        if self.right:\n",
    "            yield self.right\n",
    "\n",
    "    def __repr__(self):\n",
    "        return f\"Node('{self.val}')\"\n",
    "\n",
    "a = Node('a')\n",
    "a.left = Node('b')\n",
    "a.right = Node('c')\n",
    "a.left.left = Node('d')\n",
    "a.right.left = Node('f')\n",
    "a.right.right = Node('g')\n",
    "a.right.left.left = Node('l')\n",
    "a.right.left.right = Node('m')\n",
    "\n",
    "print(list(a))"
   ]
  },
  {
   "cell_type": "code",
   "execution_count": null,
   "metadata": {},
   "outputs": [],
   "source": []
  }
 ],
 "metadata": {
  "kernelspec": {
   "display_name": "Python 3",
   "language": "python",
   "name": "python3"
  },
  "language_info": {
   "codemirror_mode": {
    "name": "ipython",
    "version": 3
   },
   "file_extension": ".py",
   "mimetype": "text/x-python",
   "name": "python",
   "nbconvert_exporter": "python",
   "pygments_lexer": "ipython3",
   "version": "3.7.9"
  }
 },
 "nbformat": 4,
 "nbformat_minor": 4
}

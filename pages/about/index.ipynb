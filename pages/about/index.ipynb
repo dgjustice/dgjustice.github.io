{
 "cells": [
  {
   "cell_type": "markdown",
   "metadata": {},
   "source": [
    "### About\n",
    "I work as an infrastructure developer.  I am also a student at [APU](http://www.apu.apus.edu/) working on my Bachelor's in Mathematics.  This blog is dedicated to the latter effort.  **I am not a professional mathematician**, so feel free to create Github issues for any errors you encounter.  I will fix them as quickly as possible.  The information here is only intended to be anectdotal - I have **no qualifications** as a teacher or professor.  \n",
    "\n",
    "This blog serves as a personal journal of sorts.  I am a tinkerer, and I \"play\" with a lot of different things.  I'm not trying to impress anyone or make it to the top of anyone's RSS feed.  I hope you enjoy what you find here, and I welcome your feedback!\n",
    "\n",
    "### Contact\n",
    "* Feel free to leave comments as issues on this [repo](https://github.com/dgjustice/dgjustice.github.io)\n",
    "* Send me a message on [LinkedIn](https://www.linkedin.com/in/daniel-justice-084737110)\n",
    "* Troll me on [Slack](http://slack.networktocode.com/)"
   ]
  },
  {
   "cell_type": "code",
   "execution_count": null,
   "metadata": {},
   "outputs": [],
   "source": []
  }
 ],
 "metadata": {
  "kernelspec": {
   "display_name": "Python 3",
   "language": "python",
   "name": "python3"
  },
  "language_info": {
   "codemirror_mode": {
    "name": "ipython",
    "version": 3
   },
   "file_extension": ".py",
   "mimetype": "text/x-python",
   "name": "python",
   "nbconvert_exporter": "python",
   "pygments_lexer": "ipython3",
   "version": "3.6.4"
  },
  "nikola": {
   "category": "",
   "date": "2018-01-03 12:26:59 UTC-06:00",
   "description": "",
   "link": "",
   "slug": "about",
   "tags": "",
   "title": "About",
   "type": "text"
  }
 },
 "nbformat": 4,
 "nbformat_minor": 2
}

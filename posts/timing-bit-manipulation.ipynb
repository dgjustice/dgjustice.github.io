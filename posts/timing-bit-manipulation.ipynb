{
 "cells": [
  {
   "cell_type": "markdown",
   "id": "d921d6c0",
   "metadata": {},
   "source": [
    "# Timing bit manipulation\n",
    "\n",
    "I ran across a surprising result today (surprising to me, at least), and I thought I'd share.\n",
    "\n",
    "TL;DR; When in doubt, double check your assumptions!\n",
    "\n",
    "I need a function that counts how many 1-bits are set in an unsigned integer.\n",
    "My initial thought was to not even consider Python's `bin` function because my assumption was that anything in string-land would be inherently slower.\n",
    "I don't necessarily need this to be blazingly fast, but there is no sense writing extra code if I don't need it.\n",
    "Thankfully, Python has a wonderful module called [`timeit`](https://docs.python.org/3/library/timeit.html) that is great for these sorts of tests.\n",
    "\n",
    "I picked up Hacker's Delight by Henry S. Warren, Jr. a few months ago, and it is full of bit-twiddling greatness.\n",
    "I have transposed the C code to Python below, and I really thought it would blow the doors off the other two.\n",
    "It is an order of magnitude faster than my initial creation, but the simple one-liner is the fastest!"
   ]
  },
  {
   "cell_type": "code",
   "execution_count": 12,
   "id": "e70b6ab4",
   "metadata": {},
   "outputs": [
    {
     "name": "stdout",
     "output_type": "stream",
     "text": [
      "23\n",
      "23\n",
      "23\n",
      "--------------------------------------------------------------------------------\n",
      "3.17 µs ± 9.21 ns per loop (mean ± std. dev. of 7 runs, 100000 loops each)\n",
      "478 ns ± 7.02 ns per loop (mean ± std. dev. of 7 runs, 1000000 loops each)\n",
      "352 ns ± 5.58 ns per loop (mean ± std. dev. of 7 runs, 1000000 loops each)\n"
     ]
    }
   ],
   "source": [
    "from timeit import timeit\n",
    "\n",
    "# My quick-and-dirty attempt, works on unsized +ints\n",
    "def count_one_bits(positive_integer_or_zero: int) -> int:\n",
    "    count = 0\n",
    "    while positive_integer_or_zero:\n",
    "        count += positive_integer_or_zero & 1\n",
    "        positive_integer_or_zero >>= 1\n",
    "    return count\n",
    "\n",
    "# divide-and-conquer from Hacker's Delight (Warren), works on 32-bit unsigned ints\n",
    "def pop32(x: int) -> int:\n",
    "    x -= ((x >> 1) & 0x55555555)\n",
    "    x = (x & 0x33333333) + ((x >> 2) & 0x33333333)\n",
    "    x = (x + (x >> 4)) & 0x0f0f0f0f\n",
    "    x += (x >> 8)\n",
    "    x += (x >> 16)\n",
    "    return x & 0x0000003f\n",
    "\n",
    "# Surely not, strings are slow, right?!\n",
    "def count_str_bits(x):\n",
    "    return bin(x).count(\"1\")\n",
    "\n",
    "print(count_one_bits(4127189174))\n",
    "print(pop32(4127189174))\n",
    "print(count_str_bits(4127189174))\n",
    "\n",
    "print(\"-\"*80)\n",
    "\n",
    "%timeit count_one_bits(4127189174)\n",
    "%timeit pop32(4127189174)\n",
    "%timeit count_str_bits(4127189174)"
   ]
  },
  {
   "cell_type": "markdown",
   "id": "d82da998",
   "metadata": {},
   "source": [
    "#### References\n",
    "\n",
    "Warren, H. (2012). Hacker’s Delight (2nd ed.). Addison-Wesley Professional."
   ]
  }
 ],
 "metadata": {
  "kernelspec": {
   "display_name": "Python 3",
   "language": "python",
   "name": "python3"
  },
  "language_info": {
   "codemirror_mode": {
    "name": "ipython",
    "version": 3
   },
   "file_extension": ".py",
   "mimetype": "text/x-python",
   "name": "python",
   "nbconvert_exporter": "python",
   "pygments_lexer": "ipython3",
   "version": "3.7.10"
  },
  "nikola": {
   "category": "",
   "date": "2021-06-25 14:10:09-05:00",
   "description": "",
   "link": "",
   "slug": "timing-bit-manipulation",
   "tags": "python",
   "title": "Timing bit manipulation",
   "type": "text"
  }
 },
 "nbformat": 4,
 "nbformat_minor": 5
}

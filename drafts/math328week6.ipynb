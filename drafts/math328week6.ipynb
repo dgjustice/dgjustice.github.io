{
 "cells": [
  {
   "cell_type": "code",
   "execution_count": 31,
   "metadata": {},
   "outputs": [
    {
     "name": "stdout",
     "output_type": "stream",
     "text": [
      "   No.      Time           Source      Destination Protocol  Length  \\\n",
      "0    1  0.000000      192.168.1.2  212.204.214.114      IRC      96   \n",
      "1    2  0.125852  212.204.214.114      192.168.1.2      TCP      66   \n",
      "2    3  0.137361  212.204.214.114      192.168.1.2      IRC     112   \n",
      "3    4  0.137413      192.168.1.2  212.204.214.114      TCP      66   \n",
      "4    5  0.235960      192.168.1.2      192.168.1.1      DNS      84   \n",
      "\n",
      "                                                Info  \n",
      "0                                     Request (ISON)  \n",
      "1  6667  >  2848 [ACK] Seq=1 Ack=31 Win=57890 Len...  \n",
      "2                                     Response (303)  \n",
      "3  2848  >  6667 [ACK] Seq=31 Ack=47 Win=8011 Len...  \n",
      "4  Standard query 0x311f PTR 2.1.168.192.in-addr....  \n"
     ]
    },
    {
     "data": {
      "image/png": "[encoded data removed]",
      "text/plain": [
       "<Figure size 432x288 with 1 Axes>"
      ]
     },
     "metadata": {
      "needs_background": "light"
     },
     "output_type": "display_data"
    }
   ],
   "source": [
    "import pandas as pd\n",
    "import numpy as np\n",
    "import matplotlib.pyplot as plt\n",
    "from math import sqrt\n",
    "\n",
    "# Read CSV file into DataFrame df\n",
    "df = pd.read_csv('data/pcap.csv') #, index_col=0)\n",
    "# \"No.\",\"Time\",\"Source\",\"Destination\",\"Protocol\",\"Length\",\"Info\"\n",
    "df[\"No.\"] = pd.to_numeric(df[\"No.\"])\n",
    "df[\"Time\"] = pd.to_numeric(df[\"Time\"])\n",
    "df[\"Length\"] = pd.to_numeric(df[\"Length\"])\n",
    "print(df.head())\n",
    "plt.title(\"Packet length\")\n",
    "_ = plt.hist(df[\"Length\"], bins='auto')"
   ]
  },
  {
   "cell_type": "code",
   "execution_count": 32,
   "metadata": {},
   "outputs": [
    {
     "name": "stdout",
     "output_type": "stream",
     "text": [
      "Packet length > 200: 211\n"
     ]
    }
   ],
   "source": [
    "print(f\"Packet length > 200: {len(df.query('Length > 200'))}\")"
   ]
  },
  {
   "cell_type": "code",
   "execution_count": 85,
   "metadata": {},
   "outputs": [
    {
     "name": "stdout",
     "output_type": "stream",
     "text": [
      "number in class     variance  is in interval\n",
      "0.04\n"
     ]
    }
   ],
   "source": [
    "SAMPLE_SIZE = 50\n",
    "N_SAMPLES = 100\n",
    "TOTAL_PACKETS = len(df)\n",
    "exp_packets = 211\n",
    "\n",
    "variance = lambda c, n: (TOTAL_PACKETS**2) * (c * (1 - c/n))/(n*(n-1))\n",
    "v = 0\n",
    "\n",
    "print(f\"{'number in class':<20}{'variance':<10}{'is in interval':<10}\")\n",
    "for n in range(N_SAMPLES):\n",
    "    c = len(df[\"Length\"].sample(SAMPLE_SIZE).to_frame().query(\"Length > 200\"))\n",
    "    N_c = c/SAMPLE_SIZE*TOTAL_PACKETS\n",
    "    sigma_sq = variance(c, SAMPLE_SIZE)\n",
    "    is_in_range = N_c - 1.96 * sqrt(sigma_sq) <= exp_packets <= N_c + 1.96 * sqrt(sigma_sq)\n",
    "#     print(f\"{N_c:<20.2f}{sigma_sq:<10.2f}{str(is_in_range):<10}\")\n",
    "    if not is_in_range:\n",
    "        v += 1\n",
    "print(v/100)"
   ]
  },
  {
   "cell_type": "code",
   "execution_count": 51,
   "metadata": {},
   "outputs": [
    {
     "data": {
      "text/plain": [
       "True"
      ]
     },
     "execution_count": 51,
     "metadata": {},
     "output_type": "execute_result"
    }
   ],
   "source": []
  }
 ],
 "metadata": {
  "kernelspec": {
   "display_name": "Python 3",
   "language": "python",
   "name": "python3"
  },
  "language_info": {
   "codemirror_mode": {
    "name": "ipython",
    "version": 3
   },
   "file_extension": ".py",
   "mimetype": "text/x-python",
   "name": "python",
   "nbconvert_exporter": "python",
   "pygments_lexer": "ipython3",
   "version": "3.7.9"
  }
 },
 "nbformat": 4,
 "nbformat_minor": 4
}

{
 "cells": [
  {
   "cell_type": "markdown",
   "metadata": {},
   "source": [
    "## P-series convergence\n",
    "I had fun studying infinite series in Calculus, but got stuck on on p-series convergence for some reason.  At the time, I could not think of an intuitive reason that the series diverges for p ≤ 1.  \n",
    "\n",
    "Let's start with a quick recap.  The p-series is defined as:  \n",
    "\n",
    "$$\\sum_{n=1}^{\\infty}\\frac{1}{n^p}$$\n",
    "\n",
    "For example, let's look at p = 3.  The first six terms of the sequence are:\n",
    "\n",
    "$$\\frac{1}{1^3}+\\frac{1}{2^3}+\\frac{1}{3^3}+\\frac{1}{4^3}+\\frac{1}{5^3}+\\frac{1}{6^3}...$$  \n",
    "\n",
    "$$1+\\frac{1}{8}+\\frac{1}{27}+\\frac{1}{64}+\\frac{1}{125}+\\frac{1}{216}...$$\n",
    "\n",
    "Even when p = 1, it is clear that the limit of the series approaches zero since the denominator gets infinitely large for p > 0.  Keep in mind that even though the limit exists and is not infinite, *the sum of the series may not converge!*\n",
    "\n",
    "Work in progress.  To be continued..."
   ]
  },
  {
   "cell_type": "code",
   "execution_count": null,
   "metadata": {
    "collapsed": true
   },
   "outputs": [],
   "source": []
  }
 ],
 "metadata": {
  "kernelspec": {
   "display_name": "Python 3",
   "language": "python",
   "name": "python3"
  },
  "language_info": {
   "codemirror_mode": {
    "name": "ipython",
    "version": 3
   },
   "file_extension": ".py",
   "mimetype": "text/x-python",
   "name": "python",
   "nbconvert_exporter": "python",
   "pygments_lexer": "ipython3",
   "version": "3.6.4"
  },
  "nikola": {
   "date": "2018-01-03 21:09:01 UTC+10:00",
   "slug": "p-series-convergence",
   "tags": [
    "calculus"
   ],
   "title": "p-series convergence"
  }
 },
 "nbformat": 4,
 "nbformat_minor": 2
}

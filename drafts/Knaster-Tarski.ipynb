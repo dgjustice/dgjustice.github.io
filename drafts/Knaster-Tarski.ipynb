{
 "cells": [
  {
   "cell_type": "markdown",
   "id": "drawn-netscape",
   "metadata": {},
   "source": [
    "Sketch a mathematical definition of the set of values corresponding to inductive types.\n",
    "\n",
    "```ocaml\n",
    "type tree =\n",
    "  | Node of int * tree * tree\n",
    "  | Leaf of int\n",
    "```\n",
    "\n",
    "𝓤 is the set of all possible values a program can manipulate.\n",
    "𝓟(𝓤) is the powerset of 𝓤 which is the set of all subsets of 𝓤, [ordered](https://eli.thegreenplace.net/2018/partial-and-total-orders/) by inclusion.\n",
    "\n",
    "Any recursive definition induces a function F:𝓟(𝓤)⟶𝓟(𝓤) sending a set X to the set obtained by applying the constructors to the elements of X.\n",
    "\n",
    "The induced function is:\n",
    "\n",
    "$$F(X)=\\{Node(n, t_1, t_2) | n \\in N\\ and\\ t_1, t_2 \\in X\\} \\cup \\{Leaf(n)|n\\in N\\}$$\n",
    "\n",
    "The set associated to `tree` is intuitively the smallest set $X \\subseteq 𝓤$ which is closed under adding nodes and leaves, i.e. such that F(x)=X, provided that such a set exists.\n",
    "Such a set X satisfying F(X)=X is called a fixpoint of F."
   ]
  },
  {
   "cell_type": "markdown",
   "id": "regulated-bulgaria",
   "metadata": {},
   "source": []
  }
 ],
 "metadata": {
  "kernelspec": {
   "display_name": "Python 3",
   "language": "python",
   "name": "python3"
  },
  "language_info": {
   "codemirror_mode": {
    "name": "ipython",
    "version": 3
   },
   "file_extension": ".py",
   "mimetype": "text/x-python",
   "name": "python",
   "nbconvert_exporter": "python",
   "pygments_lexer": "ipython3",
   "version": "3.7.9"
  }
 },
 "nbformat": 4,
 "nbformat_minor": 5
}

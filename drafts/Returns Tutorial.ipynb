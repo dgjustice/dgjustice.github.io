{
 "cells": [
  {
   "cell_type": "code",
   "execution_count": 7,
   "metadata": {},
   "outputs": [],
   "source": [
    "from typing import Optional\n",
    "\n",
    "from returns.maybe import maybe\n",
    "from pydantic import BaseModel\n",
    "\n",
    "class Address(BaseModel):\n",
    "    street_one: str\n",
    "    street_two: Optional[str]\n",
    "    city: str\n",
    "    state: str\n",
    "\n",
    "class User(BaseModel):\n",
    "    username: str\n",
    "    password: str\n",
    "    address: Optional[Address]\n",
    "\n",
    "bob = User(username=\"bob\", password=\"secret\")\n",
    "frank = User(\n",
    "    username=\"fisherman\",\n",
    "    password=\"master-baiter\",\n",
    "    address=Address(\n",
    "        street_one=\"123 Lake Dr.\",\n",
    "        city=\"Somewhere\",\n",
    "        state=\"Arklamo\"\n",
    "    )\n",
    ")"
   ]
  },
  {
   "cell_type": "markdown",
   "metadata": {},
   "source": [
    "## Maybe useful\n",
    "\n",
    "This is a super trivial example.\n",
    "The `Maybe` monad isn't super useful because python programmers are quite handy at dealing with `None` values.\n",
    "However, I have used it because I love how it provides an *explicit* interface to tell my fellow developers that this data container might be a null value.\n",
    "In the following example, it would be really easy to check for the address, but you can imagine more complex scenarios where this might be useful.\n",
    "Also keep in mind that this is just the edge of the rabbit hole..."
   ]
  },
  {
   "cell_type": "code",
   "execution_count": 19,
   "metadata": {},
   "outputs": [
    {
     "name": "stdout",
     "output_type": "stream",
     "text": [
      "fisherman\n",
      "123 Lake Dr.\n",
      "\n",
      "Somewhere\n",
      "Arklamo\n",
      "\n",
      "\n"
     ]
    },
    {
     "ename": "AttributeError",
     "evalue": "'NoneType' object has no attribute 'street_one'",
     "output_type": "error",
     "traceback": [
      "\u001b[0;31m---------------------------------------------------------------------------\u001b[0m",
      "\u001b[0;31mAttributeError\u001b[0m                            Traceback (most recent call last)",
      "\u001b[0;32m<ipython-input-19-c4bac847dfdf>\u001b[0m in \u001b[0;36m<module>\u001b[0;34m\u001b[0m\n\u001b[1;32m      6\u001b[0m \u001b[0;34m\u001b[0m\u001b[0m\n\u001b[1;32m      7\u001b[0m \u001b[0;32mfor\u001b[0m \u001b[0muser\u001b[0m \u001b[0;32min\u001b[0m \u001b[0;34m[\u001b[0m\u001b[0mfrank\u001b[0m\u001b[0;34m,\u001b[0m \u001b[0mbob\u001b[0m\u001b[0;34m]\u001b[0m\u001b[0;34m:\u001b[0m\u001b[0;34m\u001b[0m\u001b[0;34m\u001b[0m\u001b[0m\n\u001b[0;32m----> 8\u001b[0;31m     \u001b[0mprint\u001b[0m\u001b[0;34m(\u001b[0m\u001b[0;34mf\"{user.username}\\n{format_address(get_user_address(user))}\\n\"\u001b[0m\u001b[0;34m)\u001b[0m\u001b[0;34m\u001b[0m\u001b[0;34m\u001b[0m\u001b[0m\n\u001b[0m",
      "\u001b[0;32m<ipython-input-19-c4bac847dfdf>\u001b[0m in \u001b[0;36mformat_address\u001b[0;34m(addr)\u001b[0m\n\u001b[1;32m      3\u001b[0m \u001b[0;34m\u001b[0m\u001b[0m\n\u001b[1;32m      4\u001b[0m \u001b[0;32mdef\u001b[0m \u001b[0mformat_address\u001b[0m\u001b[0;34m(\u001b[0m\u001b[0maddr\u001b[0m\u001b[0;34m:\u001b[0m \u001b[0mAddress\u001b[0m\u001b[0;34m)\u001b[0m \u001b[0;34m->\u001b[0m \u001b[0mstr\u001b[0m\u001b[0;34m:\u001b[0m\u001b[0;34m\u001b[0m\u001b[0;34m\u001b[0m\u001b[0m\n\u001b[0;32m----> 5\u001b[0;31m     \u001b[0;32mreturn\u001b[0m \u001b[0;34mf\"{addr.street_one}\\n{addr.street_two or ''}\\n{addr.city}\\n{addr.state}\\n\"\u001b[0m\u001b[0;34m\u001b[0m\u001b[0;34m\u001b[0m\u001b[0m\n\u001b[0m\u001b[1;32m      6\u001b[0m \u001b[0;34m\u001b[0m\u001b[0m\n\u001b[1;32m      7\u001b[0m \u001b[0;32mfor\u001b[0m \u001b[0muser\u001b[0m \u001b[0;32min\u001b[0m \u001b[0;34m[\u001b[0m\u001b[0mfrank\u001b[0m\u001b[0;34m,\u001b[0m \u001b[0mbob\u001b[0m\u001b[0;34m]\u001b[0m\u001b[0;34m:\u001b[0m\u001b[0;34m\u001b[0m\u001b[0;34m\u001b[0m\u001b[0m\n",
      "\u001b[0;31mAttributeError\u001b[0m: 'NoneType' object has no attribute 'street_one'"
     ]
    }
   ],
   "source": [
    "def get_user_address(user: User) -> str:\n",
    "    return user.address\n",
    "\n",
    "def format_address(addr: Address) -> str:\n",
    "    return f\"{addr.street_one}\\n{addr.street_two or ''}\\n{addr.city}\\n{addr.state}\\n\"\n",
    "\n",
    "for user in [frank, bob]:\n",
    "    print(f\"{user.username}\\n{format_address(get_user_address(user))}\\n\")"
   ]
  },
  {
   "cell_type": "markdown",
   "metadata": {},
   "source": [
    "## Background\n",
    "\n",
    "As a side note, you can't escape these monad \"containers\" in Haskell.\n",
    "Once a value ends up in a container, you have to keep working in that context.\n",
    "Haskell also enforces these rules *at compile time*, and it is *strongly typed*.\n",
    "Haskell enforces functional \"purity\" at the compiler-level; python does no such thing!\n",
    "A pure function is one that doesn't rely on any external state or IO.\n",
    "No matter how many times you call a pure function, it will always return the same output with a given input.\n",
    "Think `sum([4, 2])` versus `get_input(\"your name')`.\n",
    "Pure functions don't raise exceptions, either!\n",
    "The `returns` developers have done a fantastic job of bringing these features to Python, but you can't change the fact that it's still python.\n",
    "These annotations are more semantic guidelines than rules.\n",
    "They can be checked with `mypy`, but at the end of the day, you will still be debugging runtime issues.\n",
    "It's just the nature of the beast.\n",
    "\n",
    "### Maybe container\n",
    "\n",
    "`maybe` wraps a value in a container.\n",
    "This container exposes a few methods which we can use to compose functions together.\n",
    "This style of programming is most useful if you think of a series of function calls as a way of slowly building an end result.\n",
    "\n",
    "```python\n",
    "def post(my_api_endpoint, payload):\n",
    "    data = call_db()\n",
    "    validated = validate_payload(payload)\n",
    "    return process_rows(data, validated)\n",
    "```\n",
    "\n",
    "versus\n",
    "```python\n",
    "def post(my_api_endpoint, payload):\n",
    "    return result.from_iterable(\n",
    "        [call_db(), validate_payload(payload)]\n",
    "    ).map(\n",
    "        process_rows\n",
    "    ).unwrap()\n",
    "```\n",
    "\n",
    "You really have to wrap your head around the idea of things as a series of calls in a pipeline that feeds data from one call to the next.\n",
    "The \"railway\" aspect of this is that these chained calls are designed to short-circuit when they are made using special containers.\n",
    "\n",
    "- `maybe` wraps the returned address in a `Maybe` container.\n",
    "- `format_address` is a \"pure\" function.\n",
    "\n",
    "The last line says, \"Call `get_user_address` with `user`.\n",
    "If the value is `Some[Address]`, pass the output to `format_address`.\n",
    "`value_or` returns the wrapped value of a `Some` container (*you can't do this in Haskell!).\n",
    "\n",
    "If the value is `Nothing`, skip `format_address`.\n",
    "`value_or` returns the value of the given parameter in the `Nothing` case, for instance `\"\"`."
   ]
  },
  {
   "cell_type": "code",
   "execution_count": 17,
   "metadata": {},
   "outputs": [
    {
     "name": "stdout",
     "output_type": "stream",
     "text": [
      "123 Lake Dr.\n",
      "\n",
      "Somewhere\n",
      "Arklamo\n",
      "\n",
      "\n"
     ]
    }
   ],
   "source": [
    "@maybe\n",
    "def get_user_address(user: User) -> str:\n",
    "    return user.address\n",
    "\n",
    "def format_address(addr: Address) -> str:\n",
    "    return f\"{addr.street_one}\\n{addr.street_two or ''}\\n{addr.city}\\n{addr.state}\\n\"\n",
    "\n",
    "for user in [frank, bob]:\n",
    "    print(get_user_address(user).map(format_address).value_or(\"\"))"
   ]
  }
 ],
 "metadata": {
  "kernelspec": {
   "display_name": "Python 3",
   "language": "python",
   "name": "python3"
  },
  "language_info": {
   "codemirror_mode": {
    "name": "ipython",
    "version": 3
   },
   "file_extension": ".py",
   "mimetype": "text/x-python",
   "name": "python",
   "nbconvert_exporter": "python",
   "pygments_lexer": "ipython3",
   "version": "3.7.9"
  }
 },
 "nbformat": 4,
 "nbformat_minor": 4
}

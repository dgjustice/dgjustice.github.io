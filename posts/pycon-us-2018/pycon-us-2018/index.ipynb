{
 "cells": [
  {
   "cell_type": "markdown",
   "metadata": {},
   "source": [
    "## PyCon US 2018\n",
    "\n",
    "I had the amazing opportunity to go to [PyCon](https://us.pycon.org/2018/) this year, and it was a blast!  I've shared this on Slack, but it warrants a post as I've not written anything since January.\n",
    "\n",
    "##### Needs improvement\n",
    "\n",
    "Starting with this not because I'm a troll, but because I don't want it to be the \"final thought\".  Honestly, not much.  The food.  The food was not great, but we survived.  The scheduling was a bit wonky \\(four talks on testing all in the same slot\\); that's why they record the talks \\(I have a few hours worth bookmarked on YouTube\\).\n",
    "\n",
    "#### The \"Meh\"\n",
    "\n",
    "The tutorials.  In the ones I took, they ran at breakneck speed, no time for questions.  It's probably better to watch the videos and follow on your own over a weekend.  I was expecting a little more time for questions and tangents.  I'm currently working my way through the tutorial by [Chrisy Heaton on Spatial Alalysis](https://youtu.be/uRvTeK5Ndq8).  So far it's great, and she is running at a deliberate pace.\n",
    "\n",
    "### The rest *which was all awesome*: \n",
    "\n",
    "The experience is invaluable.  This community is unlike any other I've been a part of.  \"Pythonistas\" are passionate about their language and the community transcends many borders and spoken languages.\n",
    "\n",
    "- \"The talks are recorded, why go?\"  Good question, and I was wondering that myself on day 2.  The main reason is that you are a _captive audience_.  Leave your laptop in the hotel, go pay attention.\n",
    "\n",
    "- Open spaces.  I didn't know what these were until I got there.  They make many of the rooms available to pretty much anyone who wants to organize a pop-up gathering.  There were about 30 folks in the network automation room.  Got some good info on data science, message queues, and other random topics.  It's hit and miss, but some of these were as good as the main presenters themselves.  It's also an informal setting where you can easily speak to folks one-on-one.  See my previous point about meeting people.\n",
    "\n",
    "Lastly, and *most importantly*, the people \\(have I mentioned that yet?\\):  I can't emphasize this point enough.  If I take nothing else away from this conference, it will be the amazing folks that I met and got to spend time with.  I spoke  with Michael Kennedy [Talk Python podcast](https://talkpython.fm/), I got to hear about Dan Bader [Python Tips and Tricks](https://dbader.org/) getting \"kicked\" out of Canda \\(and they didn't even say sorry!\\), I drank beer with the founders of [PyBites](https://pybit.es/), Julian Sequeira and Bob Belderbos, the list goes on.  I spoke with the one of the founders of NumPy, a PhD in electrical engineering, one of the current maintainers of PyPi, ...  Every one of these people made themselves publicly available and welcomed questions and one-on-one interaction, even for n00bs like myself!  \n",
    "\n",
    "If someone asks me, \"Why should I go to PyCon?\", my answer is unequivocally to meet other people who share your passion for computer science.  My peers know that I lack people skills, and my biggest takeaway is the relationships I made while on site.  Big thanks to Samuel Moore for facilitating most of those meetings.  \n",
    "\n",
    "### Next year\n",
    "\n",
    "What would I do differently?  Skip the tutorials or only do one session each day, not two.  Other blogs will tell you to leave free time in your schedule.  That's great advice; you can't make all the presentations \\(besides, it's exhausting at some point\\).  "
   ]
  }
 ],
 "metadata": {
  "kernelspec": {
   "display_name": "Python 3",
   "language": "python",
   "name": "python3"
  },
  "language_info": {
   "codemirror_mode": {
    "name": "ipython",
    "version": 3
   },
   "file_extension": ".py",
   "mimetype": "text/x-python",
   "name": "python",
   "nbconvert_exporter": "python",
   "pygments_lexer": "ipython3",
   "version": "3.6.5"
  },
  "nikola": {
   "category": "",
   "date": "2018-05-16 16:44:58 UTC-05:00",
   "description": "",
   "link": "",
   "slug": "pycon-us-2018",
   "tags": "python,pycon",
   "title": "PyCon US 2018",
   "type": "text"
  }
 },
 "nbformat": 4,
 "nbformat_minor": 2
}
